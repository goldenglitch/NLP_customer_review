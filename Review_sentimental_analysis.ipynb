{
 "cells": [
  {
   "cell_type": "markdown",
   "metadata": {
    "_uuid": "a22cd9684b1ccf2bf483b55f746881ebcbbcbe4c"
   },
   "source": [
    "# Introduction"
   ]
  },
  {
   "cell_type": "markdown",
   "metadata": {
    "_uuid": "9b15f7daa8f9c5cb04c1ff8974a9c0cefb672f6f"
   },
   "source": [
    "Sentiment analysis is part of the Natural Language Processing (NLP) techniques that consists in extracting emotions related to some raw texts. This is usually used on social media posts and customer reviews in order to automatically understand if some users are positive or negative and why. The goal of this study is to show how sentiment analysis can be performed using python. Here are some of the main libraries we will use:\n",
    "\n",
    "- NLTK: the most famous python module for NLP techniques\n",
    "- Gensim: a topic-modelling and vector space modelling toolkit\n",
    "- Scikit-learn: the most used python machine learning library\n",
    "\n",
    "We will use here some hotel reviews data. Each observation consists in one customer review for one hotel. Each customer review is composed of a textual feedback of the customer's experience at the hotel and an overall rating. The data can be found here:\n",
    "https://www.kaggle.com/jiashenliu/515k-hotel-reviews-data-in-europe\n",
    "\n",
    "For each textual review, we want to predict if it corresponds to a good review (the customer is happy) or to a bad one (the customer is not satisfied). The reviews overall ratings can range from 2.5/10 to 10/10. In order to simplify the problem we will split those into two categories:\n",
    "- bad reviews have overall ratings < 5\n",
    "- good reviews have overall ratings >= 5\n",
    "\n",
    "The challenge here is to be able to predict this information using only the raw textual data from the review.\n",
    "Let's get it started!\n"
   ]
  },
  {
   "cell_type": "markdown",
   "metadata": {
    "_cell_guid": "79c7e3d0-c299-4dcb-8224-4455121ee9b0",
    "_uuid": "d629ff2d2480ee46fbb7e2d37f6b5fab8052498a",
    "collapsed": true
   },
   "source": [
    "# Load data"
   ]
  },
  {
   "cell_type": "markdown",
   "metadata": {
    "_uuid": "7c52144478e304f76ce5310ab30a72a08e0c35dd"
   },
   "source": [
    "We first start by loading the raw data. Each textual reviews is splitted into a positive part and a negative part. We group them together in order to start with only raw text data and no other information."
   ]
  },
  {
   "cell_type": "code",
   "execution_count": 2,
   "metadata": {
    "_uuid": "cb56534fa07076079598d82a2e69848802148d70"
   },
   "outputs": [
    {
     "data": {
      "text/html": [
       "<div>\n",
       "<style scoped>\n",
       "    .dataframe tbody tr th:only-of-type {\n",
       "        vertical-align: middle;\n",
       "    }\n",
       "\n",
       "    .dataframe tbody tr th {\n",
       "        vertical-align: top;\n",
       "    }\n",
       "\n",
       "    .dataframe thead th {\n",
       "        text-align: right;\n",
       "    }\n",
       "</style>\n",
       "<table border=\"1\" class=\"dataframe\">\n",
       "  <thead>\n",
       "    <tr style=\"text-align: right;\">\n",
       "      <th></th>\n",
       "      <th>review</th>\n",
       "      <th>is_bad_review</th>\n",
       "    </tr>\n",
       "  </thead>\n",
       "  <tbody>\n",
       "    <tr>\n",
       "      <th>0</th>\n",
       "      <td>I am so angry that i made this post available...</td>\n",
       "      <td>1</td>\n",
       "    </tr>\n",
       "    <tr>\n",
       "      <th>1</th>\n",
       "      <td>No Negative No real complaints the hotel was g...</td>\n",
       "      <td>0</td>\n",
       "    </tr>\n",
       "    <tr>\n",
       "      <th>2</th>\n",
       "      <td>Rooms are nice but for elderly a bit difficul...</td>\n",
       "      <td>0</td>\n",
       "    </tr>\n",
       "    <tr>\n",
       "      <th>3</th>\n",
       "      <td>My room was dirty and I was afraid to walk ba...</td>\n",
       "      <td>1</td>\n",
       "    </tr>\n",
       "    <tr>\n",
       "      <th>4</th>\n",
       "      <td>You When I booked with your company on line y...</td>\n",
       "      <td>0</td>\n",
       "    </tr>\n",
       "  </tbody>\n",
       "</table>\n",
       "</div>"
      ],
      "text/plain": [
       "                                              review  is_bad_review\n",
       "0   I am so angry that i made this post available...              1\n",
       "1  No Negative No real complaints the hotel was g...              0\n",
       "2   Rooms are nice but for elderly a bit difficul...              0\n",
       "3   My room was dirty and I was afraid to walk ba...              1\n",
       "4   You When I booked with your company on line y...              0"
      ]
     },
     "execution_count": 2,
     "metadata": {},
     "output_type": "execute_result"
    }
   ],
   "source": [
    "import pandas as pd\n",
    "\n",
    "# read data\n",
    "reviews_df = pd.read_csv(\"/Users/shreya/Downloads/Hotel_Reviews.csv\")\n",
    "# append the positive and negative text reviews\n",
    "reviews_df[\"review\"] = reviews_df[\"Negative_Review\"] + reviews_df[\"Positive_Review\"]\n",
    "# create the label\n",
    "reviews_df[\"is_bad_review\"] = reviews_df[\"Reviewer_Score\"].apply(lambda x: 1 if x < 5 else 0)\n",
    "# select only relevant columns\n",
    "reviews_df = reviews_df[[\"review\", \"is_bad_review\"]]\n",
    "reviews_df.head()"
   ]
  },
  {
   "cell_type": "markdown",
   "metadata": {
    "_uuid": "137871905d305dae06cbc7c9f263b3ac3a6b85b7"
   },
   "source": [
    "# Sample data"
   ]
  },
  {
   "cell_type": "code",
   "execution_count": 4,
   "metadata": {
    "_uuid": "a4f04ca1ef2a8b8b98bdbba2a3563b776a583964"
   },
   "outputs": [],
   "source": [
    "reviews_df = reviews_df.sample(frac = 0.1, replace = False, random_state=42)"
   ]
  },
  {
   "cell_type": "markdown",
   "metadata": {
    "_uuid": "f57e5b9e22b0ac6d9a1fb98224da2d2417e991f4"
   },
   "source": [
    "We sample the data in order to speed up computations."
   ]
  },
  {
   "cell_type": "markdown",
   "metadata": {
    "_uuid": "0f2061b96461095869fe3cbd19ae10ca9c651482"
   },
   "source": [
    "# Clean data"
   ]
  },
  {
   "cell_type": "code",
   "execution_count": 5,
   "metadata": {
    "_uuid": "005e87154e11f530b58c56cac9f555c82493b906"
   },
   "outputs": [],
   "source": [
    "# remove 'No Negative' or 'No Positive' from text\n",
    "reviews_df[\"review\"] = reviews_df[\"review\"].apply(lambda x: x.replace(\"No Negative\", \"\").replace(\"No Positive\", \"\"))"
   ]
  },
  {
   "cell_type": "markdown",
   "metadata": {
    "_uuid": "256f6d920bcb8b50725cb93488a9e7be4c772349"
   },
   "source": [
    "If the user doesn't leave any negative feedback comment, this will appear as \"No Negative\" in our data. This is the same for the positive comments with the default value \"No Positive\". We have to remove those parts from our texts.\n",
    "\n",
    "The next step consists in cleaning the text data with various operations:"
   ]
  },
  {
   "cell_type": "code",
   "execution_count": 7,
   "metadata": {
    "_uuid": "2d51a84a81d55c527dbd56b42201f5df3d444ce5"
   },
   "outputs": [
    {
     "name": "stdout",
     "output_type": "stream",
     "text": [
      "CPU times: user 22.8 s, sys: 632 ms, total: 23.4 s\n",
      "Wall time: 24.6 s\n"
     ]
    }
   ],
   "source": [
    "%%time\n",
    "\n",
    "# return the wordnet object value corresponding to the POS tag\n",
    "from nltk.corpus import wordnet\n",
    "\n",
    "def get_wordnet_pos(pos_tag):\n",
    "    if pos_tag.startswith('J'):\n",
    "        return wordnet.ADJ\n",
    "    elif pos_tag.startswith('V'):\n",
    "        return wordnet.VERB\n",
    "    elif pos_tag.startswith('N'):\n",
    "        return wordnet.NOUN\n",
    "    elif pos_tag.startswith('R'):\n",
    "        return wordnet.ADV\n",
    "    else:\n",
    "        return wordnet.NOUN\n",
    "    \n",
    "import string\n",
    "from nltk import pos_tag\n",
    "from nltk.corpus import stopwords\n",
    "from nltk.tokenize import WhitespaceTokenizer\n",
    "from nltk.stem import WordNetLemmatizer\n",
    "\n",
    "def clean_text(text):\n",
    "    # lower text\n",
    "    text = text.lower()\n",
    "    # tokenize text and remove puncutation\n",
    "    text = [word.strip(string.punctuation) for word in text.split(\" \")]\n",
    "    # remove words that contain numbers\n",
    "    text = [word for word in text if not any(c.isdigit() for c in word)]\n",
    "    # remove stop words\n",
    "    stop = stopwords.words('english')\n",
    "    text = [x for x in text if x not in stop]\n",
    "    # remove empty tokens\n",
    "    text = [t for t in text if len(t) > 0]\n",
    "    # pos tag text\n",
    "    pos_tags = pos_tag(text)\n",
    "    # lemmatize text\n",
    "    text = [WordNetLemmatizer().lemmatize(t[0], get_wordnet_pos(t[1])) for t in pos_tags]\n",
    "    # remove words with only one letter\n",
    "    text = [t for t in text if len(t) > 1]\n",
    "    # join all\n",
    "    text = \" \".join(text)\n",
    "    return(text)\n",
    "\n",
    "# clean text data\n",
    "reviews_df[\"review_clean\"] = reviews_df[\"review\"].apply(lambda x: clean_text(x))"
   ]
  },
  {
   "cell_type": "markdown",
   "metadata": {
    "_uuid": "ab1d87cea172f979af13ba58cafed1302267b183"
   },
   "source": [
    "To clean textual data, we call our custom 'clean_text' function that performs several transformations:\n",
    "- lower the text\n",
    "- tokenize the text (split the text into words) and remove the punctuation\n",
    "- remove useless words that contain numbers\n",
    "- remove useless stop words like 'the', 'a' ,'this' etc.\n",
    "- Part-Of-Speech (POS) tagging: assign a tag to every word to define if it corresponds to a noun, a verb etc. using the WordNet lexical database\n",
    "- lemmatize the text: transform every word into their root form (e.g. rooms -> room, slept -> sleep)\n",
    "\n",
    "Now that we have cleaned our data, we can do some feature engineering for our modelization part."
   ]
  },
  {
   "cell_type": "markdown",
   "metadata": {
    "_uuid": "79ed7c7647f7868d74bb5b3267a77914539dd61d"
   },
   "source": [
    "# Feature engineering"
   ]
  },
  {
   "cell_type": "code",
   "execution_count": 10,
   "metadata": {
    "_uuid": "edbc356b3b7289c9aaafeafb41c11eb7c5a601f7"
   },
   "outputs": [],
   "source": [
    "# add sentiment anaylsis columns\n",
    "from nltk.sentiment.vader import SentimentIntensityAnalyzer\n",
    "\n",
    "sid = SentimentIntensityAnalyzer()\n",
    "reviews_df[\"sentiments\"] = reviews_df[\"review\"].apply(lambda x: sid.polarity_scores(x))\n",
    "reviews_df = pd.concat([reviews_df.drop(['sentiments'], axis=1), reviews_df['sentiments'].apply(pd.Series)], axis=1)"
   ]
  },
  {
   "cell_type": "markdown",
   "metadata": {
    "_uuid": "0c9161a58d443d38ca818ef7deb128cc92359b5c"
   },
   "source": [
    "We first start by adding sentiment analysis features because we can guess that customers reviews are highly linked to how they felt about their stay at the hotel. We use Vader, which is a part of the NLTK module designed for sentiment analysis. Vader uses a lexicon of words to find which ones are positives or negatives. It also takes into account the context of the sentences to determine the sentiment scores. For each text, Vader returns 4 values:\n",
    "- a neutrality score\n",
    "- a positivity score\n",
    "- a negativity score\n",
    "- an overall score that summarizes the previous scores\n",
    "\n",
    "We will integrate those 4 values as features in our dataset."
   ]
  },
  {
   "cell_type": "code",
   "execution_count": 11,
   "metadata": {
    "_uuid": "183c8e5ad5659fea721bed9cdf40b45757f49721"
   },
   "outputs": [],
   "source": [
    "# add number of characters column\n",
    "reviews_df[\"nb_chars\"] = reviews_df[\"review\"].apply(lambda x: len(x))\n",
    "\n",
    "# add number of words column\n",
    "reviews_df[\"nb_words\"] = reviews_df[\"review\"].apply(lambda x: len(x.split(\" \")))"
   ]
  },
  {
   "cell_type": "markdown",
   "metadata": {
    "_uuid": "892e8afaecce1fbfcbd61cfc5cbfea2a122c0296"
   },
   "source": [
    "Next, we add some simple metrics for every text:\n",
    "- number of characters in the text\n",
    "- number of words in the text"
   ]
  },
  {
   "cell_type": "code",
   "execution_count": 15,
   "metadata": {
    "_uuid": "905b125a775fa13b20d869443dc439d324a124b7"
   },
   "outputs": [],
   "source": [
    "# create doc2vec vector columns\n",
    "\n",
    "from gensim.test.utils import common_texts\n",
    "from gensim.models.doc2vec import Doc2Vec, TaggedDocument\n",
    "\n",
    "documents = [TaggedDocument(doc, [i]) for i, doc in enumerate(reviews_df[\"review_clean\"].apply(lambda x: x.split(\" \")))]\n",
    "\n",
    "# train a Doc2Vec model with our text data\n",
    "model = Doc2Vec(documents, vector_size=5, window=2, min_count=1, workers=4)\n",
    "\n",
    "# transform each document into a vector data\n",
    "doc2vec_df = reviews_df[\"review_clean\"].apply(lambda x: model.infer_vector(x.split(\" \"))).apply(pd.Series)\n",
    "doc2vec_df.columns = [\"doc2vec_vector_\" + str(x) for x in doc2vec_df.columns]\n",
    "reviews_df = pd.concat([reviews_df, doc2vec_df], axis=1)"
   ]
  },
  {
   "cell_type": "markdown",
   "metadata": {
    "_uuid": "0b1c2be5745ae8ecf348212b5af359f3c9ce09c1"
   },
   "source": [
    "The next step consist in extracting vector representations for every review. The module Gensim creates a numerical vector representation of every word in the corpus by using the contexts in which they appear (Word2Vec). This is performed using shallow neural networks. What's interesting is that similar words will have similar representation vectors.\n",
    "\n",
    "Each text can also be transformed into numerical vectors using the word vectors (Doc2Vec). Same texts will also have similar representations and that is why we can use those vectors as training features.\n",
    "\n",
    "We first have to train a Doc2Vec model by feeding in our text data. By applying this model on our reviews, we can get those representation vectors."
   ]
  },
  {
   "cell_type": "code",
   "execution_count": 16,
   "metadata": {
    "_uuid": "2a2b0d4e04270e1249ec4436dce176573be2c147"
   },
   "outputs": [],
   "source": [
    "# add tf-idfs columns\n",
    "from sklearn.feature_extraction.text import TfidfVectorizer\n",
    "tfidf = TfidfVectorizer(min_df = 10)\n",
    "tfidf_result = tfidf.fit_transform(reviews_df[\"review_clean\"]).toarray()\n",
    "tfidf_df = pd.DataFrame(tfidf_result, columns = tfidf.get_feature_names())\n",
    "tfidf_df.columns = [\"word_\" + str(x) for x in tfidf_df.columns]\n",
    "tfidf_df.index = reviews_df.index\n",
    "reviews_df = pd.concat([reviews_df, tfidf_df], axis=1)"
   ]
  },
  {
   "cell_type": "markdown",
   "metadata": {
    "_uuid": "90c32da70b76239209f524e4fa473dba8685b2a3"
   },
   "source": [
    "Finally we add the TF-IDF (Term Frequency - Inverse Document Frequency) values for every word and every document. \n",
    "\n",
    "But why not simply counting how many times each word appears in every document? The problem with this method is that it doesn't take into account the relative importance of words in the texts. A word that appears in almost every text would not likely bring useful information for analysis. On the contrary, rare words may have a lot more of meanings.\n",
    "\n",
    "The TF-IDF metric solves this problem:\n",
    "- TF computes the classic number of times the word appears in the text\n",
    "- IDF computes the relative importance of this word which depends on how many texts the word can be found\n",
    "\n",
    "We add TF-IDF columns for every word that appear in at least 10 different texts to filter some of them and reduce the size of the final output."
   ]
  },
  {
   "cell_type": "code",
   "execution_count": 18,
   "metadata": {
    "_uuid": "6682eda4d0078a4953f5111717e4750c8f98d409"
   },
   "outputs": [
    {
     "data": {
      "text/html": [
       "<div>\n",
       "<style scoped>\n",
       "    .dataframe tbody tr th:only-of-type {\n",
       "        vertical-align: middle;\n",
       "    }\n",
       "\n",
       "    .dataframe tbody tr th {\n",
       "        vertical-align: top;\n",
       "    }\n",
       "\n",
       "    .dataframe thead th {\n",
       "        text-align: right;\n",
       "    }\n",
       "</style>\n",
       "<table border=\"1\" class=\"dataframe\">\n",
       "  <thead>\n",
       "    <tr style=\"text-align: right;\">\n",
       "      <th></th>\n",
       "      <th>review</th>\n",
       "      <th>is_bad_review</th>\n",
       "      <th>review_clean</th>\n",
       "      <th>compound</th>\n",
       "      <th>neg</th>\n",
       "      <th>neu</th>\n",
       "      <th>pos</th>\n",
       "      <th>nb_chars</th>\n",
       "      <th>nb_words</th>\n",
       "      <th>compound</th>\n",
       "      <th>...</th>\n",
       "      <th>word_worth</th>\n",
       "      <th>word_would</th>\n",
       "      <th>word_wow</th>\n",
       "      <th>word_write</th>\n",
       "      <th>word_wrong</th>\n",
       "      <th>word_yard</th>\n",
       "      <th>word_year</th>\n",
       "      <th>word_yes</th>\n",
       "      <th>word_yet</th>\n",
       "      <th>word_young</th>\n",
       "    </tr>\n",
       "  </thead>\n",
       "  <tbody>\n",
       "    <tr>\n",
       "      <th>385524</th>\n",
       "      <td>Extremely small room Over priced Clean n comfort</td>\n",
       "      <td>0</td>\n",
       "      <td>extremely small room price clean comfort</td>\n",
       "      <td>0.6369</td>\n",
       "      <td>0.000</td>\n",
       "      <td>0.490</td>\n",
       "      <td>0.510</td>\n",
       "      <td>49</td>\n",
       "      <td>9</td>\n",
       "      <td>0.6369</td>\n",
       "      <td>...</td>\n",
       "      <td>0.0</td>\n",
       "      <td>0.0</td>\n",
       "      <td>0.0</td>\n",
       "      <td>0.0</td>\n",
       "      <td>0.0</td>\n",
       "      <td>0.0</td>\n",
       "      <td>0.0</td>\n",
       "      <td>0.0</td>\n",
       "      <td>0.0</td>\n",
       "      <td>0.0</td>\n",
       "    </tr>\n",
       "    <tr>\n",
       "      <th>403309</th>\n",
       "      <td>Nothing  All staff at reception were helpful</td>\n",
       "      <td>0</td>\n",
       "      <td>nothing staff reception helpful</td>\n",
       "      <td>0.4215</td>\n",
       "      <td>0.000</td>\n",
       "      <td>0.682</td>\n",
       "      <td>0.318</td>\n",
       "      <td>46</td>\n",
       "      <td>10</td>\n",
       "      <td>0.4215</td>\n",
       "      <td>...</td>\n",
       "      <td>0.0</td>\n",
       "      <td>0.0</td>\n",
       "      <td>0.0</td>\n",
       "      <td>0.0</td>\n",
       "      <td>0.0</td>\n",
       "      <td>0.0</td>\n",
       "      <td>0.0</td>\n",
       "      <td>0.0</td>\n",
       "      <td>0.0</td>\n",
       "      <td>0.0</td>\n",
       "    </tr>\n",
       "    <tr>\n",
       "      <th>42185</th>\n",
       "      <td>It was lovely The staff were very on the ball...</td>\n",
       "      <td>0</td>\n",
       "      <td>lovely staff ball know precisely pool fantasti...</td>\n",
       "      <td>0.9823</td>\n",
       "      <td>0.000</td>\n",
       "      <td>0.609</td>\n",
       "      <td>0.391</td>\n",
       "      <td>281</td>\n",
       "      <td>54</td>\n",
       "      <td>0.9823</td>\n",
       "      <td>...</td>\n",
       "      <td>0.0</td>\n",
       "      <td>0.0</td>\n",
       "      <td>0.0</td>\n",
       "      <td>0.0</td>\n",
       "      <td>0.0</td>\n",
       "      <td>0.0</td>\n",
       "      <td>0.0</td>\n",
       "      <td>0.0</td>\n",
       "      <td>0.0</td>\n",
       "      <td>0.0</td>\n",
       "    </tr>\n",
       "    <tr>\n",
       "      <th>286648</th>\n",
       "      <td>Furniture in the room partially outdated and ...</td>\n",
       "      <td>0</td>\n",
       "      <td>furniture room partially outdated worn bathroo...</td>\n",
       "      <td>0.5984</td>\n",
       "      <td>0.138</td>\n",
       "      <td>0.598</td>\n",
       "      <td>0.265</td>\n",
       "      <td>174</td>\n",
       "      <td>31</td>\n",
       "      <td>0.5984</td>\n",
       "      <td>...</td>\n",
       "      <td>0.0</td>\n",
       "      <td>0.0</td>\n",
       "      <td>0.0</td>\n",
       "      <td>0.0</td>\n",
       "      <td>0.0</td>\n",
       "      <td>0.0</td>\n",
       "      <td>0.0</td>\n",
       "      <td>0.0</td>\n",
       "      <td>0.0</td>\n",
       "      <td>0.0</td>\n",
       "    </tr>\n",
       "    <tr>\n",
       "      <th>109058</th>\n",
       "      <td>Exceptional as always highly recommend</td>\n",
       "      <td>0</td>\n",
       "      <td>exceptional always highly recommend</td>\n",
       "      <td>0.4201</td>\n",
       "      <td>0.000</td>\n",
       "      <td>0.589</td>\n",
       "      <td>0.411</td>\n",
       "      <td>39</td>\n",
       "      <td>6</td>\n",
       "      <td>0.4201</td>\n",
       "      <td>...</td>\n",
       "      <td>0.0</td>\n",
       "      <td>0.0</td>\n",
       "      <td>0.0</td>\n",
       "      <td>0.0</td>\n",
       "      <td>0.0</td>\n",
       "      <td>0.0</td>\n",
       "      <td>0.0</td>\n",
       "      <td>0.0</td>\n",
       "      <td>0.0</td>\n",
       "      <td>0.0</td>\n",
       "    </tr>\n",
       "  </tbody>\n",
       "</table>\n",
       "<p>5 rows × 1145 columns</p>\n",
       "</div>"
      ],
      "text/plain": [
       "                                                   review  is_bad_review  \\\n",
       "385524   Extremely small room Over priced Clean n comfort              0   \n",
       "403309      Nothing  All staff at reception were helpful               0   \n",
       "42185    It was lovely The staff were very on the ball...              0   \n",
       "286648   Furniture in the room partially outdated and ...              0   \n",
       "109058             Exceptional as always highly recommend              0   \n",
       "\n",
       "                                             review_clean  compound    neg  \\\n",
       "385524           extremely small room price clean comfort    0.6369  0.000   \n",
       "403309                    nothing staff reception helpful    0.4215  0.000   \n",
       "42185   lovely staff ball know precisely pool fantasti...    0.9823  0.000   \n",
       "286648  furniture room partially outdated worn bathroo...    0.5984  0.138   \n",
       "109058                exceptional always highly recommend    0.4201  0.000   \n",
       "\n",
       "          neu    pos  nb_chars  nb_words  compound     ...      word_worth  \\\n",
       "385524  0.490  0.510        49         9    0.6369     ...             0.0   \n",
       "403309  0.682  0.318        46        10    0.4215     ...             0.0   \n",
       "42185   0.609  0.391       281        54    0.9823     ...             0.0   \n",
       "286648  0.598  0.265       174        31    0.5984     ...             0.0   \n",
       "109058  0.589  0.411        39         6    0.4201     ...             0.0   \n",
       "\n",
       "        word_would  word_wow  word_write  word_wrong  word_yard  word_year  \\\n",
       "385524         0.0       0.0         0.0         0.0        0.0        0.0   \n",
       "403309         0.0       0.0         0.0         0.0        0.0        0.0   \n",
       "42185          0.0       0.0         0.0         0.0        0.0        0.0   \n",
       "286648         0.0       0.0         0.0         0.0        0.0        0.0   \n",
       "109058         0.0       0.0         0.0         0.0        0.0        0.0   \n",
       "\n",
       "        word_yes  word_yet  word_young  \n",
       "385524       0.0       0.0         0.0  \n",
       "403309       0.0       0.0         0.0  \n",
       "42185        0.0       0.0         0.0  \n",
       "286648       0.0       0.0         0.0  \n",
       "109058       0.0       0.0         0.0  \n",
       "\n",
       "[5 rows x 1145 columns]"
      ]
     },
     "execution_count": 18,
     "metadata": {},
     "output_type": "execute_result"
    }
   ],
   "source": [
    "reviews_df.head()"
   ]
  },
  {
   "cell_type": "code",
   "execution_count": 19,
   "metadata": {
    "_uuid": "90a369931c57755f171e8cd9e8f9ff8e12e7a04b"
   },
   "outputs": [
    {
     "data": {
      "text/plain": [
       "(5157, 1145)"
      ]
     },
     "execution_count": 19,
     "metadata": {},
     "output_type": "execute_result"
    }
   ],
   "source": [
    "reviews_df.shape"
   ]
  },
  {
   "cell_type": "markdown",
   "metadata": {
    "_uuid": "fff48629c55ba10d8625ced055d92cfd0621a235"
   },
   "source": [
    "# Exploratory data analysis\n",
    "\n",
    "\n",
    "In order to have a better understanding of our data, let's explore it a little:"
   ]
  },
  {
   "cell_type": "code",
   "execution_count": 20,
   "metadata": {
    "_uuid": "9b19f8973b5aabec726dfe0a4806e2d88a310b0c"
   },
   "outputs": [
    {
     "data": {
      "text/plain": [
       "0    0.956176\n",
       "1    0.043824\n",
       "Name: is_bad_review, dtype: float64"
      ]
     },
     "execution_count": 20,
     "metadata": {},
     "output_type": "execute_result"
    }
   ],
   "source": [
    "# show is_bad_review distribution\n",
    "reviews_df[\"is_bad_review\"].value_counts(normalize = True)"
   ]
  },
  {
   "cell_type": "markdown",
   "metadata": {
    "_uuid": "cd96811d40bd891b0360b702bfc0b59a33a7215a"
   },
   "source": [
    "Our dataset is highly imbalanced because less than 5% of our reviews are considered as negative ones. This information will be very useful for the modelling part.\n",
    "\n",
    "Now let's print some wordclouds to have a glimpse at what kind of words apear in our reviews:"
   ]
  },
  {
   "cell_type": "code",
   "execution_count": 22,
   "metadata": {
    "_uuid": "0d81a097747f9e9d16076cbaa211e7e66ba37a8f"
   },
   "outputs": [
    {
     "data": {
      "text/plain": [
       "<Figure size 2000x2000 with 1 Axes>"
      ]
     },
     "metadata": {},
     "output_type": "display_data"
    }
   ],
   "source": [
    "# wordcloud function\n",
    "\n",
    "from wordcloud import WordCloud\n",
    "import matplotlib.pyplot as plt\n",
    "\n",
    "def show_wordcloud(data, title = None):\n",
    "    wordcloud = WordCloud(\n",
    "        background_color = 'white',\n",
    "        max_words = 200,\n",
    "        max_font_size = 40, \n",
    "        scale = 3,\n",
    "        random_state = 42\n",
    "    ).generate(str(data))\n",
    "\n",
    "    fig = plt.figure(1, figsize = (20, 20))\n",
    "    plt.axis('off')\n",
    "    if title: \n",
    "        fig.suptitle(title, fontsize = 20)\n",
    "        fig.subplots_adjust(top = 2.3)\n",
    "\n",
    "    plt.imshow(wordcloud)\n",
    "    plt.show()\n",
    "    \n",
    "# print wordcloud\n",
    "show_wordcloud(reviews_df[\"review\"])"
   ]
  },
  {
   "cell_type": "markdown",
   "metadata": {
    "_uuid": "cad7d1ca94c9ce4fff486c0f65450e41790ecd57"
   },
   "source": [
    "Most of the words are indeed related to the hotels: room, staff, breakfast, etc. Some words are more related to the customer experience with the hotel stay: perfect, loved, expensive, dislike, etc."
   ]
  },
  {
   "cell_type": "code",
   "execution_count": 42,
   "metadata": {
    "_uuid": "d247f98a3ae20c5b1b8227171d12ba375d548132"
   },
   "outputs": [
    {
     "data": {
      "text/html": [
       "<div>\n",
       "<style scoped>\n",
       "    .dataframe tbody tr th:only-of-type {\n",
       "        vertical-align: middle;\n",
       "    }\n",
       "\n",
       "    .dataframe tbody tr th {\n",
       "        vertical-align: top;\n",
       "    }\n",
       "\n",
       "    .dataframe thead th {\n",
       "        text-align: right;\n",
       "    }\n",
       "</style>\n",
       "<table border=\"1\" class=\"dataframe\">\n",
       "  <thead>\n",
       "    <tr style=\"text-align: right;\">\n",
       "      <th></th>\n",
       "      <th>review</th>\n",
       "      <th>pos</th>\n",
       "      <th>pos</th>\n",
       "      <th>neu</th>\n",
       "      <th>neu</th>\n",
       "    </tr>\n",
       "  </thead>\n",
       "  <tbody>\n",
       "    <tr>\n",
       "      <th>199412</th>\n",
       "      <td>wifi was horrible service</td>\n",
       "      <td>0.000</td>\n",
       "      <td>0.000</td>\n",
       "      <td>0.462</td>\n",
       "      <td>0.462</td>\n",
       "    </tr>\n",
       "    <tr>\n",
       "      <th>222563</th>\n",
       "      <td>wifi was down for most of my stay breakfast w...</td>\n",
       "      <td>0.504</td>\n",
       "      <td>0.504</td>\n",
       "      <td>0.496</td>\n",
       "      <td>0.496</td>\n",
       "    </tr>\n",
       "    <tr>\n",
       "      <th>214804</th>\n",
       "      <td>wifi was as good as none  Excellent location</td>\n",
       "      <td>0.244</td>\n",
       "      <td>0.244</td>\n",
       "      <td>0.504</td>\n",
       "      <td>0.504</td>\n",
       "    </tr>\n",
       "    <tr>\n",
       "      <th>123028</th>\n",
       "      <td>wifi system does not work properly connection...</td>\n",
       "      <td>0.184</td>\n",
       "      <td>0.184</td>\n",
       "      <td>0.583</td>\n",
       "      <td>0.583</td>\n",
       "    </tr>\n",
       "    <tr>\n",
       "      <th>425831</th>\n",
       "      <td>wifi slow and no reach location is excellent</td>\n",
       "      <td>0.400</td>\n",
       "      <td>0.400</td>\n",
       "      <td>0.417</td>\n",
       "      <td>0.417</td>\n",
       "    </tr>\n",
       "    <tr>\n",
       "      <th>376630</th>\n",
       "      <td>wifi need to register it s not convenient  qu...</td>\n",
       "      <td>0.073</td>\n",
       "      <td>0.073</td>\n",
       "      <td>0.927</td>\n",
       "      <td>0.927</td>\n",
       "    </tr>\n",
       "    <tr>\n",
       "      <th>41609</th>\n",
       "      <td>wifi in my room was not stable  spacious room...</td>\n",
       "      <td>0.423</td>\n",
       "      <td>0.423</td>\n",
       "      <td>0.498</td>\n",
       "      <td>0.498</td>\n",
       "    </tr>\n",
       "    <tr>\n",
       "      <th>480497</th>\n",
       "      <td>wi fi signal was poor in our room on the 7th ...</td>\n",
       "      <td>0.307</td>\n",
       "      <td>0.307</td>\n",
       "      <td>0.582</td>\n",
       "      <td>0.582</td>\n",
       "    </tr>\n",
       "    <tr>\n",
       "      <th>435724</th>\n",
       "      <td>wi fi in the room quite weak check in process...</td>\n",
       "      <td>0.117</td>\n",
       "      <td>0.117</td>\n",
       "      <td>0.750</td>\n",
       "      <td>0.750</td>\n",
       "    </tr>\n",
       "    <tr>\n",
       "      <th>190787</th>\n",
       "      <td>whilst the room was fine overall the basin in...</td>\n",
       "      <td>0.255</td>\n",
       "      <td>0.255</td>\n",
       "      <td>0.745</td>\n",
       "      <td>0.745</td>\n",
       "    </tr>\n",
       "  </tbody>\n",
       "</table>\n",
       "</div>"
      ],
      "text/plain": [
       "                                                   review    pos    pos  \\\n",
       "199412                          wifi was horrible service  0.000  0.000   \n",
       "222563   wifi was down for most of my stay breakfast w...  0.504  0.504   \n",
       "214804       wifi was as good as none  Excellent location  0.244  0.244   \n",
       "123028   wifi system does not work properly connection...  0.184  0.184   \n",
       "425831       wifi slow and no reach location is excellent  0.400  0.400   \n",
       "376630   wifi need to register it s not convenient  qu...  0.073  0.073   \n",
       "41609    wifi in my room was not stable  spacious room...  0.423  0.423   \n",
       "480497   wi fi signal was poor in our room on the 7th ...  0.307  0.307   \n",
       "435724   wi fi in the room quite weak check in process...  0.117  0.117   \n",
       "190787   whilst the room was fine overall the basin in...  0.255  0.255   \n",
       "\n",
       "          neu    neu  \n",
       "199412  0.462  0.462  \n",
       "222563  0.496  0.496  \n",
       "214804  0.504  0.504  \n",
       "123028  0.583  0.583  \n",
       "425831  0.417  0.417  \n",
       "376630  0.927  0.927  \n",
       "41609   0.498  0.498  \n",
       "480497  0.582  0.582  \n",
       "435724  0.750  0.750  \n",
       "190787  0.745  0.745  "
      ]
     },
     "execution_count": 42,
     "metadata": {},
     "output_type": "execute_result"
    }
   ],
   "source": [
    "# highest positive sentiment reviews (with more than 5 words)\n",
    "# reviews_df[reviews_df[\"nb_words\"] >= 5].sort_values(\"pos\",\"\", ascending = False)[[\"review\", \"pos\"]].head(10)\n",
    "reviews_df[reviews_df[\"nb_words\"] >= 5].sort_values([\"review\"], ascending = False)[[\"review\", \"pos\", \"neu\"]].head(10)"
   ]
  },
  {
   "cell_type": "markdown",
   "metadata": {
    "_uuid": "ca802efbb1bb92214e5addfc400952178970162a"
   },
   "source": [
    "The most positive reviews indeed correspond to some good feedbacks."
   ]
  },
  {
   "cell_type": "code",
   "execution_count": 43,
   "metadata": {
    "_uuid": "e506946236e230f419c09280cbfbcdfad35ab1a4",
    "scrolled": true
   },
   "outputs": [
    {
     "data": {
      "text/html": [
       "<div>\n",
       "<style scoped>\n",
       "    .dataframe tbody tr th:only-of-type {\n",
       "        vertical-align: middle;\n",
       "    }\n",
       "\n",
       "    .dataframe tbody tr th {\n",
       "        vertical-align: top;\n",
       "    }\n",
       "\n",
       "    .dataframe thead th {\n",
       "        text-align: right;\n",
       "    }\n",
       "</style>\n",
       "<table border=\"1\" class=\"dataframe\">\n",
       "  <thead>\n",
       "    <tr style=\"text-align: right;\">\n",
       "      <th></th>\n",
       "      <th>review</th>\n",
       "      <th>neg</th>\n",
       "      <th>neg</th>\n",
       "      <th>neu</th>\n",
       "      <th>neu</th>\n",
       "    </tr>\n",
       "  </thead>\n",
       "  <tbody>\n",
       "    <tr>\n",
       "      <th>199412</th>\n",
       "      <td>wifi was horrible service</td>\n",
       "      <td>0.538</td>\n",
       "      <td>0.538</td>\n",
       "      <td>0.462</td>\n",
       "      <td>0.462</td>\n",
       "    </tr>\n",
       "    <tr>\n",
       "      <th>222563</th>\n",
       "      <td>wifi was down for most of my stay breakfast w...</td>\n",
       "      <td>0.000</td>\n",
       "      <td>0.000</td>\n",
       "      <td>0.496</td>\n",
       "      <td>0.496</td>\n",
       "    </tr>\n",
       "    <tr>\n",
       "      <th>214804</th>\n",
       "      <td>wifi was as good as none  Excellent location</td>\n",
       "      <td>0.252</td>\n",
       "      <td>0.252</td>\n",
       "      <td>0.504</td>\n",
       "      <td>0.504</td>\n",
       "    </tr>\n",
       "    <tr>\n",
       "      <th>123028</th>\n",
       "      <td>wifi system does not work properly connection...</td>\n",
       "      <td>0.233</td>\n",
       "      <td>0.233</td>\n",
       "      <td>0.583</td>\n",
       "      <td>0.583</td>\n",
       "    </tr>\n",
       "    <tr>\n",
       "      <th>425831</th>\n",
       "      <td>wifi slow and no reach location is excellent</td>\n",
       "      <td>0.183</td>\n",
       "      <td>0.183</td>\n",
       "      <td>0.417</td>\n",
       "      <td>0.417</td>\n",
       "    </tr>\n",
       "    <tr>\n",
       "      <th>376630</th>\n",
       "      <td>wifi need to register it s not convenient  qu...</td>\n",
       "      <td>0.000</td>\n",
       "      <td>0.000</td>\n",
       "      <td>0.927</td>\n",
       "      <td>0.927</td>\n",
       "    </tr>\n",
       "    <tr>\n",
       "      <th>41609</th>\n",
       "      <td>wifi in my room was not stable  spacious room...</td>\n",
       "      <td>0.078</td>\n",
       "      <td>0.078</td>\n",
       "      <td>0.498</td>\n",
       "      <td>0.498</td>\n",
       "    </tr>\n",
       "    <tr>\n",
       "      <th>480497</th>\n",
       "      <td>wi fi signal was poor in our room on the 7th ...</td>\n",
       "      <td>0.111</td>\n",
       "      <td>0.111</td>\n",
       "      <td>0.582</td>\n",
       "      <td>0.582</td>\n",
       "    </tr>\n",
       "    <tr>\n",
       "      <th>435724</th>\n",
       "      <td>wi fi in the room quite weak check in process...</td>\n",
       "      <td>0.133</td>\n",
       "      <td>0.133</td>\n",
       "      <td>0.750</td>\n",
       "      <td>0.750</td>\n",
       "    </tr>\n",
       "    <tr>\n",
       "      <th>190787</th>\n",
       "      <td>whilst the room was fine overall the basin in...</td>\n",
       "      <td>0.000</td>\n",
       "      <td>0.000</td>\n",
       "      <td>0.745</td>\n",
       "      <td>0.745</td>\n",
       "    </tr>\n",
       "  </tbody>\n",
       "</table>\n",
       "</div>"
      ],
      "text/plain": [
       "                                                   review    neg    neg  \\\n",
       "199412                          wifi was horrible service  0.538  0.538   \n",
       "222563   wifi was down for most of my stay breakfast w...  0.000  0.000   \n",
       "214804       wifi was as good as none  Excellent location  0.252  0.252   \n",
       "123028   wifi system does not work properly connection...  0.233  0.233   \n",
       "425831       wifi slow and no reach location is excellent  0.183  0.183   \n",
       "376630   wifi need to register it s not convenient  qu...  0.000  0.000   \n",
       "41609    wifi in my room was not stable  spacious room...  0.078  0.078   \n",
       "480497   wi fi signal was poor in our room on the 7th ...  0.111  0.111   \n",
       "435724   wi fi in the room quite weak check in process...  0.133  0.133   \n",
       "190787   whilst the room was fine overall the basin in...  0.000  0.000   \n",
       "\n",
       "          neu    neu  \n",
       "199412  0.462  0.462  \n",
       "222563  0.496  0.496  \n",
       "214804  0.504  0.504  \n",
       "123028  0.583  0.583  \n",
       "425831  0.417  0.417  \n",
       "376630  0.927  0.927  \n",
       "41609   0.498  0.498  \n",
       "480497  0.582  0.582  \n",
       "435724  0.750  0.750  \n",
       "190787  0.745  0.745  "
      ]
     },
     "execution_count": 43,
     "metadata": {},
     "output_type": "execute_result"
    }
   ],
   "source": [
    "# lowest negative sentiment reviews (with more than 5 words)\n",
    "reviews_df[reviews_df[\"nb_words\"] >= 5].sort_values([\"review\"], ascending = False)[[\"review\", \"neg\", \"neu\"]].head(10)"
   ]
  },
  {
   "cell_type": "markdown",
   "metadata": {
    "_uuid": "8064f8760dff31dab1fed7deed313d57655dee94"
   },
   "source": [
    "Some errors can be found among the most negative reviews: Vader sometimes interpret 'no' or 'nothing' as negative words whereas they are sometimes used to say that there were no problems with the hotel. Fortunately, most of the reviews are indeed bad ones."
   ]
  },
  {
   "cell_type": "markdown",
   "metadata": {
    "_uuid": "6792e4ff851b10ce6e0dc46bb8b81e066a6026e7"
   },
   "source": [
    "# Modelling is_bad_review"
   ]
  },
  {
   "cell_type": "code",
   "execution_count": 27,
   "metadata": {
    "_uuid": "5176528611b2a898af937dedfdb89661d9fd1870"
   },
   "outputs": [],
   "source": [
    "# feature selection\n",
    "label = \"is_bad_review\"\n",
    "ignore_cols = [label, \"review\", \"review_clean\"]\n",
    "features = [c for c in reviews_df.columns if c not in ignore_cols]\n",
    "\n",
    "# split the data into train and test\n",
    "from sklearn.ensemble import RandomForestClassifier\n",
    "from sklearn.model_selection import train_test_split\n",
    "\n",
    "X_train, X_test, y_train, y_test = train_test_split(reviews_df[features], reviews_df[label], test_size = 0.20, random_state = 42)"
   ]
  },
  {
   "cell_type": "markdown",
   "metadata": {
    "_uuid": "9269d829bf108611ce8ed17517309a72e2e9e727"
   },
   "source": [
    "We first choose which features we want to use to train our model. Then we split our data into two parts:\n",
    "- one to train our model\n",
    "- one to assess its performances\n",
    "\n",
    "We will next use a Random Forest (RF) classifier for our predictions."
   ]
  },
  {
   "cell_type": "code",
   "execution_count": 29,
   "metadata": {
    "_uuid": "9900998d64c493c2c162b1b2bd7b5b3e3b72db90"
   },
   "outputs": [
    {
     "data": {
      "image/png": "[encoded data removed]",
      "text/plain": [
       "<Figure size 1080x720 with 1 Axes>"
      ]
     },
     "metadata": {
      "needs_background": "light"
     },
     "output_type": "display_data"
    }
   ],
   "source": [
    "# ROC curve\n",
    "\n",
    "from sklearn.metrics import roc_curve, auc, roc_auc_score\n",
    "import matplotlib.pyplot as plt\n",
    "\n",
    "y_pred = [x[1] for x in rf.predict_proba(X_test)]\n",
    "fpr, tpr, thresholds = roc_curve(y_test, y_pred, pos_label = 1)\n",
    "\n",
    "roc_auc = auc(fpr, tpr)\n",
    "\n",
    "plt.figure(1, figsize = (15, 10))\n",
    "lw = 2\n",
    "plt.plot(fpr, tpr, color='darkorange',\n",
    "         lw=lw, label='ROC curve (area = %0.2f)' % roc_auc)\n",
    "plt.plot([0, 1], [0, 1], lw=lw, linestyle='--')\n",
    "plt.xlim([0.0, 1.0])\n",
    "plt.ylim([0.0, 1.0])\n",
    "plt.xlabel('False Positive Rate')\n",
    "plt.ylabel('True Positive Rate')\n",
    "plt.title('Receiver operating characteristic')\n",
    "plt.legend(loc=\"lower right\")\n",
    "plt.show()"
   ]
  },
  {
   "cell_type": "markdown",
   "metadata": {
    "_uuid": "65e4d155a09ff2750eed793b890bd99c35960da8"
   },
   "source": [
    "The ROC (Receiver Operating Characteristic) curve is usually a good graph to summarize the quality of our classifier. The higher the curve is above the diagonal baseline, the better the predictions. Although the AUC ROC (Area Under the Curve ROC) is very good, we should not use here the ROC curve to assess the quality of our model.\n",
    "\n",
    "Why? First let us remind the False Positive Rate formula, which corresponds to the x axis of the ROC curve: FPR (False Positive Rate) = # False Positives / # Negatives.\n",
    "\n",
    "Here the # Negatives corresponds to our number of good reviews which is very high because our dataset is imbalanced. This means that even with some False Positives, our FPR will tend to stay very low. Our model will be able to make a lot of false positives predictions and still have a low false positive rate, while increasing the true positive rate and therefore artificially increasing the AUC ROC metric."
   ]
  },
  {
   "cell_type": "code",
   "execution_count": 30,
   "metadata": {
    "_uuid": "ce77133401f4c7862f7aa28c7f879217f382f93a"
   },
   "outputs": [
    {
     "data": {
      "text/plain": [
       "Text(0.5,1,'2-class Precision-Recall curve: AP=0.24')"
      ]
     },
     "execution_count": 30,
     "metadata": {},
     "output_type": "execute_result"
    },
    {
     "data": {
      "image/png": "[encoded data removed]",
      "text/plain": [
       "<Figure size 1080x720 with 1 Axes>"
      ]
     },
     "metadata": {
      "needs_background": "light"
     },
     "output_type": "display_data"
    }
   ],
   "source": [
    "# PR curve\n",
    "\n",
    "from sklearn.metrics import average_precision_score, precision_recall_curve\n",
    "from sklearn.utils.fixes import signature\n",
    "\n",
    "average_precision = average_precision_score(y_test, y_pred)\n",
    "\n",
    "precision, recall, _ = precision_recall_curve(y_test, y_pred)\n",
    "\n",
    "# In matplotlib < 1.5, plt.fill_between does not have a 'step' argument\n",
    "step_kwargs = ({'step': 'post'}\n",
    "               if 'step' in signature(plt.fill_between).parameters\n",
    "               else {})\n",
    "\n",
    "plt.figure(1, figsize = (15, 10))\n",
    "plt.step(recall, precision, color='b', alpha=0.2,\n",
    "         where='post')\n",
    "plt.fill_between(recall, precision, alpha=0.2, color='b', **step_kwargs)\n",
    "\n",
    "plt.xlabel('Recall')\n",
    "plt.ylabel('Precision')\n",
    "plt.ylim([0.0, 1.05])\n",
    "plt.xlim([0.0, 1.0])\n",
    "plt.title('2-class Precision-Recall curve: AP={0:0.2f}'.format(average_precision))"
   ]
  },
  {
   "cell_type": "markdown",
   "metadata": {
    "_uuid": "a6a6977b4e48d28e637b85fed45064edf1725bfb"
   },
   "source": [
    "A better metric in this imbalanced situation is the AUC PR (Area Under the Curve Precision Recall), or also called AP (Average Precision). \n",
    "\n",
    "We can see that the precision decreases when we increase the recall. This shows us that we have to choose a prediction thresold adapted to our needs. If our goal is to have a high recall, we should set a low prediction thresold that will allow us to detect most of the observations of the positive class, but with a low precision. On the contrary, if we want to be really confident about our predictions but don't mind about not finding all the positive observations, we should set a high thresold that will get us a high precision and a low recall.\n",
    "\n",
    "In order to know if our model performs better than another classifier, we can simply use the AP metric. To assess the quality of our model, we can compare it to a simple decision baseline. Let's take a random classifier as a baseline here that would predict half of the time 1 and half of the time 0 for the label.\n",
    "\n",
    "Such a classifier would have a precision of 4.3%, which corresponds to the proportion of positive observations. For every recall value the precision would stay the same, and this would lead us to an AP of 0.043. The AP of our model is approximately 0.35, which is more than 8 times higher than the AP of the random method. This means that our model has a good predictive power."
   ]
  },
  {
   "cell_type": "markdown",
   "metadata": {
    "_uuid": "1459faf9b176c226ce05ad23e4bee5832dfcba77"
   },
   "source": [
    "# Conclusion"
   ]
  },
  {
   "cell_type": "markdown",
   "metadata": {
    "_uuid": "1869399f441d068dfdafaf1eb6b8710a0a58dd59"
   },
   "source": [
    "It is completely possible to use only raw text as input for making predictions. The most important thing is to be able to extract the relevant features from this raw source of data. This kind of data can often come as a good complementary source in data science projects in order to extract more learning features and increase the predictive power of the models."
   ]
  },
  {
   "cell_type": "code",
   "execution_count": null,
   "metadata": {
    "_uuid": "fd65c8f4e60ac6fddc80f1b3a88476fdc28b1cee"
   },
   "outputs": [],
   "source": []
  }
 ],
 "metadata": {
  "kernelspec": {
   "display_name": "Python 2",
   "language": "python",
   "name": "python2"
  },
  "language_info": {
   "codemirror_mode": {
    "name": "ipython",
    "version": 2
   },
   "file_extension": ".py",
   "mimetype": "text/x-python",
   "name": "python",
   "nbconvert_exporter": "python",
   "pygments_lexer": "ipython2",
   "version": "2.7.15"
  }
 },
 "nbformat": 4,
 "nbformat_minor": 1
}
